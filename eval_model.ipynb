{
 "cells": [
  {
   "cell_type": "code",
   "execution_count": 20,
   "metadata": {},
   "outputs": [],
   "source": [
    "import numpy as np\n",
    "import time\n",
    "import matplotlib.pyplot as plt\n",
    "import torch\n",
    "from torch.autograd import Variable\n",
    "from wvaegan_gp.model_vector import Encoder, Decoder, Discriminator"
   ]
  },
  {
   "cell_type": "code",
   "execution_count": 17,
   "metadata": {},
   "outputs": [],
   "source": [
    "cuda = torch.cuda.is_available()\n",
    "\n",
    "OUTPUT_DIR = 'wvaegan_gp/results'\n",
    "DATA_PATH = '../motor_dataset_20221018st'\n",
    "N_CLASSES = 1\n",
    "COORD_SIZE = 932  # 座標の数\n",
    "LATENT_DIM = 1\n",
    "done_epoch = 50000\n",
    "FloatTensor = torch.cuda.FloatTensor if cuda else torch.FloatTensor\n",
    "\n",
    "rng = np.random.default_rng(0)\n",
    "torques_npz = np.load(f\"{DATA_PATH}/labels.npz\")\n",
    "coords_npz = np.load(f\"{DATA_PATH}/coords.npz\")\n",
    "torques = torques_npz[torques_npz.files[0]]\n",
    "torque_mean = torques_npz[torques_npz.files[2]]\n",
    "torque_std = torques_npz[torques_npz.files[3]]\n",
    "coords = coords_npz[coords_npz.files[0]]\n",
    "coord_mean = coords_npz[coords_npz.files[1]]\n",
    "coord_std = coords_npz[coords_npz.files[2]]\n",
    "\n",
    "max_torque = torques.max()\n",
    "min_torque = torques.min()"
   ]
  },
  {
   "cell_type": "code",
   "execution_count": 33,
   "metadata": {},
   "outputs": [
    {
     "data": {
      "text/plain": [
       "Discriminator(\n",
       "  (model): Sequential(\n",
       "    (0): Linear(in_features=933, out_features=512, bias=True)\n",
       "    (1): Dropout(p=0.4, inplace=False)\n",
       "    (2): LeakyReLU(negative_slope=0.2, inplace=True)\n",
       "    (3): Linear(in_features=512, out_features=256, bias=True)\n",
       "    (4): Dropout(p=0.4, inplace=False)\n",
       "    (5): LeakyReLU(negative_slope=0.2, inplace=True)\n",
       "    (6): Linear(in_features=256, out_features=1, bias=True)\n",
       "    (7): Sigmoid()\n",
       "  )\n",
       ")"
      ]
     },
     "execution_count": 33,
     "metadata": {},
     "output_type": "execute_result"
    }
   ],
   "source": [
    "encoder = Encoder(LATENT_DIM, COORD_SIZE)\n",
    "decoder = Decoder(LATENT_DIM, COORD_SIZE)\n",
    "discriminator = Discriminator(COORD_SIZE)\n",
    "\n",
    "E_PATH = f\"{OUTPUT_DIR}/encoder_params_dim{LATENT_DIM}_vector_{done_epoch}\"\n",
    "G_PATH = f\"{OUTPUT_DIR}/decoder_params_dim{LATENT_DIM}_vector_{done_epoch}\"\n",
    "D_PATH = f\"{OUTPUT_DIR}/discriminator_params_dim{LATENT_DIM}_vector_{done_epoch}\"\n",
    "\n",
    "encoder.load_state_dict(torch.load(E_PATH, map_location=torch.device('cpu')))\n",
    "encoder.eval()\n",
    "\n",
    "decoder.load_state_dict(torch.load(G_PATH, map_location=torch.device('cpu')))\n",
    "decoder.eval()\n",
    "\n",
    "discriminator.load_state_dict(torch.load(D_PATH, map_location=torch.device('cpu')))\n",
    "discriminator.eval()\n"
   ]
  },
  {
   "cell_type": "code",
   "execution_count": 34,
   "metadata": {},
   "outputs": [],
   "source": [
    "def save_coords_motor(gen_coords, labels, path):\n",
    "    data_size = gen_coords.shape[0]\n",
    "    fig, ax = plt.subplots(4,min(5, data_size//4), figsize=(12, 8), sharex=True, sharey=True)\n",
    "    plt.subplots_adjust(hspace=0.4)\n",
    "    for i in range(min(20, data_size)):\n",
    "        coord = gen_coords[i][0]\n",
    "        label = labels[i]\n",
    "        \n",
    "        ax[i%4, i//4].plot(coord[:136], coord[136:272])  # 磁石\n",
    "        ax[i%4, i//4].plot(coord[272:272+184], coord[272+184:272+368])  # 穴\n",
    "        # ax[i%4, i//4].plot(coord[272+368:272+368+146], coord[272+368+146:])  # 外枠\n",
    "\n",
    "        torque = round(label.item(), 3)\n",
    "        title = f'torque={torque}'\n",
    "        ax[i%4, i//4].set_title(title)\n",
    "    \n",
    "    fig.savefig(path)\n",
    "    plt.close()"
   ]
  },
  {
   "cell_type": "code",
   "execution_count": 35,
   "metadata": {},
   "outputs": [],
   "source": [
    "def sample_image(epoch=None, data_num=12):\n",
    "    labels = rng.uniform(min_torque, max_torque, size=(data_num, N_CLASSES))\n",
    "    labels = Variable(FloatTensor(labels))\n",
    "\n",
    "    z = Variable(FloatTensor(rng.standard_normal(size=(data_num, COORD_SIZE))))\n",
    "    z = z.cuda()\n",
    "    labels = labels.cuda()\n",
    "    #データセットをencode\n",
    "    mus, log_variances = encoder(z, labels)\n",
    "    variances = torch.exp(log_variances * 0.5)\n",
    "    Z_p = Variable(FloatTensor(rng.standard_normal(size=(data_num, LATENT_DIM))))\n",
    "    Z = Z_p * variances + mus\n",
    "\n",
    "    en_coords = decoder(Z, labels).cpu().detach().numpy()\n",
    "\n",
    "    if cuda:\n",
    "        labels = labels.cpu()\n",
    "    labels = labels.detach().numpy()\n",
    "\n",
    "    # 標準化を戻す\n",
    "    en_coords_destandardized = en_coords*coord_std+coord_mean\n",
    "    labels_destandardized = labels * torque_std + torque_mean\n",
    "\n",
    "    save_coords_motor(en_coords_destandardized, labels_destandardized, \"a.png\")"
   ]
  },
  {
   "cell_type": "code",
   "execution_count": 36,
   "metadata": {},
   "outputs": [
    {
     "ename": "RuntimeError",
     "evalue": "Expected all tensors to be on the same device, but found at least two devices, cpu and cuda:0! (when checking argument for argument mat1 in method wrapper_addmm)",
     "output_type": "error",
     "traceback": [
      "\u001b[1;31m---------------------------------------------------------------------------\u001b[0m",
      "\u001b[1;31mRuntimeError\u001b[0m                              Traceback (most recent call last)",
      "Cell \u001b[1;32mIn [36], line 1\u001b[0m\n\u001b[1;32m----> 1\u001b[0m \u001b[43msample_image\u001b[49m\u001b[43m(\u001b[49m\u001b[43m)\u001b[49m\n",
      "Cell \u001b[1;32mIn [35], line 9\u001b[0m, in \u001b[0;36msample_image\u001b[1;34m(epoch, data_num)\u001b[0m\n\u001b[0;32m      7\u001b[0m labels \u001b[38;5;241m=\u001b[39m labels\u001b[38;5;241m.\u001b[39mcuda()\n\u001b[0;32m      8\u001b[0m \u001b[38;5;66;03m#データセットをencode\u001b[39;00m\n\u001b[1;32m----> 9\u001b[0m mus, log_variances \u001b[38;5;241m=\u001b[39m \u001b[43mencoder\u001b[49m\u001b[43m(\u001b[49m\u001b[43mz\u001b[49m\u001b[43m,\u001b[49m\u001b[43m \u001b[49m\u001b[43mlabels\u001b[49m\u001b[43m)\u001b[49m\n\u001b[0;32m     10\u001b[0m variances \u001b[38;5;241m=\u001b[39m torch\u001b[38;5;241m.\u001b[39mexp(log_variances \u001b[38;5;241m*\u001b[39m \u001b[38;5;241m0.5\u001b[39m)\n\u001b[0;32m     11\u001b[0m Z_p \u001b[38;5;241m=\u001b[39m Variable(FloatTensor(rng\u001b[38;5;241m.\u001b[39mstandard_normal(size\u001b[38;5;241m=\u001b[39m(data_num, LATENT_DIM))))\n",
      "File \u001b[1;32mc:\\Users\\田村征之\\Desktop\\研究\\VAEGAN_airfoil-main\\venv\\lib\\site-packages\\torch\\nn\\modules\\module.py:1130\u001b[0m, in \u001b[0;36mModule._call_impl\u001b[1;34m(self, *input, **kwargs)\u001b[0m\n\u001b[0;32m   1126\u001b[0m \u001b[39m# If we don't have any hooks, we want to skip the rest of the logic in\u001b[39;00m\n\u001b[0;32m   1127\u001b[0m \u001b[39m# this function, and just call forward.\u001b[39;00m\n\u001b[0;32m   1128\u001b[0m \u001b[39mif\u001b[39;00m \u001b[39mnot\u001b[39;00m (\u001b[39mself\u001b[39m\u001b[39m.\u001b[39m_backward_hooks \u001b[39mor\u001b[39;00m \u001b[39mself\u001b[39m\u001b[39m.\u001b[39m_forward_hooks \u001b[39mor\u001b[39;00m \u001b[39mself\u001b[39m\u001b[39m.\u001b[39m_forward_pre_hooks \u001b[39mor\u001b[39;00m _global_backward_hooks\n\u001b[0;32m   1129\u001b[0m         \u001b[39mor\u001b[39;00m _global_forward_hooks \u001b[39mor\u001b[39;00m _global_forward_pre_hooks):\n\u001b[1;32m-> 1130\u001b[0m     \u001b[39mreturn\u001b[39;00m forward_call(\u001b[39m*\u001b[39m\u001b[39minput\u001b[39m, \u001b[39m*\u001b[39m\u001b[39m*\u001b[39mkwargs)\n\u001b[0;32m   1131\u001b[0m \u001b[39m# Do not call functions when jit is used\u001b[39;00m\n\u001b[0;32m   1132\u001b[0m full_backward_hooks, non_full_backward_hooks \u001b[39m=\u001b[39m [], []\n",
      "File \u001b[1;32mc:\\Users\\田村征之\\Desktop\\研究\\VAEGAN_airfoil-main\\wvaegan_gp\\model_vector.py:37\u001b[0m, in \u001b[0;36mEncoder.forward\u001b[1;34m(self, noise, labels)\u001b[0m\n\u001b[0;32m     35\u001b[0m \u001b[39mdef\u001b[39;00m \u001b[39mforward\u001b[39m(\u001b[39mself\u001b[39m, noise, labels):\n\u001b[0;32m     36\u001b[0m     latent_input \u001b[39m=\u001b[39m torch\u001b[39m.\u001b[39mcat((labels, noise), \u001b[39m-\u001b[39m\u001b[39m1\u001b[39m)\u001b[39m#label情報を付加\u001b[39;00m\n\u001b[1;32m---> 37\u001b[0m     latent \u001b[39m=\u001b[39m \u001b[39mself\u001b[39;49m\u001b[39m.\u001b[39;49mmodel(latent_input)\n\u001b[0;32m     38\u001b[0m     latent \u001b[39m=\u001b[39m latent\u001b[39m.\u001b[39mview(latent\u001b[39m.\u001b[39mshape[\u001b[39m0\u001b[39m], \u001b[39mself\u001b[39m\u001b[39m.\u001b[39mlatent_dim)\n\u001b[0;32m     39\u001b[0m     mu \u001b[39m=\u001b[39m \u001b[39mself\u001b[39m\u001b[39m.\u001b[39ml_mu(latent)\n",
      "File \u001b[1;32mc:\\Users\\田村征之\\Desktop\\研究\\VAEGAN_airfoil-main\\venv\\lib\\site-packages\\torch\\nn\\modules\\module.py:1130\u001b[0m, in \u001b[0;36mModule._call_impl\u001b[1;34m(self, *input, **kwargs)\u001b[0m\n\u001b[0;32m   1126\u001b[0m \u001b[39m# If we don't have any hooks, we want to skip the rest of the logic in\u001b[39;00m\n\u001b[0;32m   1127\u001b[0m \u001b[39m# this function, and just call forward.\u001b[39;00m\n\u001b[0;32m   1128\u001b[0m \u001b[39mif\u001b[39;00m \u001b[39mnot\u001b[39;00m (\u001b[39mself\u001b[39m\u001b[39m.\u001b[39m_backward_hooks \u001b[39mor\u001b[39;00m \u001b[39mself\u001b[39m\u001b[39m.\u001b[39m_forward_hooks \u001b[39mor\u001b[39;00m \u001b[39mself\u001b[39m\u001b[39m.\u001b[39m_forward_pre_hooks \u001b[39mor\u001b[39;00m _global_backward_hooks\n\u001b[0;32m   1129\u001b[0m         \u001b[39mor\u001b[39;00m _global_forward_hooks \u001b[39mor\u001b[39;00m _global_forward_pre_hooks):\n\u001b[1;32m-> 1130\u001b[0m     \u001b[39mreturn\u001b[39;00m forward_call(\u001b[39m*\u001b[39m\u001b[39minput\u001b[39m, \u001b[39m*\u001b[39m\u001b[39m*\u001b[39mkwargs)\n\u001b[0;32m   1131\u001b[0m \u001b[39m# Do not call functions when jit is used\u001b[39;00m\n\u001b[0;32m   1132\u001b[0m full_backward_hooks, non_full_backward_hooks \u001b[39m=\u001b[39m [], []\n",
      "File \u001b[1;32mc:\\Users\\田村征之\\Desktop\\研究\\VAEGAN_airfoil-main\\venv\\lib\\site-packages\\torch\\nn\\modules\\container.py:139\u001b[0m, in \u001b[0;36mSequential.forward\u001b[1;34m(self, input)\u001b[0m\n\u001b[0;32m    137\u001b[0m \u001b[39mdef\u001b[39;00m \u001b[39mforward\u001b[39m(\u001b[39mself\u001b[39m, \u001b[39minput\u001b[39m):\n\u001b[0;32m    138\u001b[0m     \u001b[39mfor\u001b[39;00m module \u001b[39min\u001b[39;00m \u001b[39mself\u001b[39m:\n\u001b[1;32m--> 139\u001b[0m         \u001b[39minput\u001b[39m \u001b[39m=\u001b[39m module(\u001b[39minput\u001b[39;49m)\n\u001b[0;32m    140\u001b[0m     \u001b[39mreturn\u001b[39;00m \u001b[39minput\u001b[39m\n",
      "File \u001b[1;32mc:\\Users\\田村征之\\Desktop\\研究\\VAEGAN_airfoil-main\\venv\\lib\\site-packages\\torch\\nn\\modules\\module.py:1130\u001b[0m, in \u001b[0;36mModule._call_impl\u001b[1;34m(self, *input, **kwargs)\u001b[0m\n\u001b[0;32m   1126\u001b[0m \u001b[39m# If we don't have any hooks, we want to skip the rest of the logic in\u001b[39;00m\n\u001b[0;32m   1127\u001b[0m \u001b[39m# this function, and just call forward.\u001b[39;00m\n\u001b[0;32m   1128\u001b[0m \u001b[39mif\u001b[39;00m \u001b[39mnot\u001b[39;00m (\u001b[39mself\u001b[39m\u001b[39m.\u001b[39m_backward_hooks \u001b[39mor\u001b[39;00m \u001b[39mself\u001b[39m\u001b[39m.\u001b[39m_forward_hooks \u001b[39mor\u001b[39;00m \u001b[39mself\u001b[39m\u001b[39m.\u001b[39m_forward_pre_hooks \u001b[39mor\u001b[39;00m _global_backward_hooks\n\u001b[0;32m   1129\u001b[0m         \u001b[39mor\u001b[39;00m _global_forward_hooks \u001b[39mor\u001b[39;00m _global_forward_pre_hooks):\n\u001b[1;32m-> 1130\u001b[0m     \u001b[39mreturn\u001b[39;00m forward_call(\u001b[39m*\u001b[39m\u001b[39minput\u001b[39m, \u001b[39m*\u001b[39m\u001b[39m*\u001b[39mkwargs)\n\u001b[0;32m   1131\u001b[0m \u001b[39m# Do not call functions when jit is used\u001b[39;00m\n\u001b[0;32m   1132\u001b[0m full_backward_hooks, non_full_backward_hooks \u001b[39m=\u001b[39m [], []\n",
      "File \u001b[1;32mc:\\Users\\田村征之\\Desktop\\研究\\VAEGAN_airfoil-main\\venv\\lib\\site-packages\\torch\\nn\\modules\\linear.py:114\u001b[0m, in \u001b[0;36mLinear.forward\u001b[1;34m(self, input)\u001b[0m\n\u001b[0;32m    113\u001b[0m \u001b[39mdef\u001b[39;00m \u001b[39mforward\u001b[39m(\u001b[39mself\u001b[39m, \u001b[39minput\u001b[39m: Tensor) \u001b[39m-\u001b[39m\u001b[39m>\u001b[39m Tensor:\n\u001b[1;32m--> 114\u001b[0m     \u001b[39mreturn\u001b[39;00m F\u001b[39m.\u001b[39;49mlinear(\u001b[39minput\u001b[39;49m, \u001b[39mself\u001b[39;49m\u001b[39m.\u001b[39;49mweight, \u001b[39mself\u001b[39;49m\u001b[39m.\u001b[39;49mbias)\n",
      "\u001b[1;31mRuntimeError\u001b[0m: Expected all tensors to be on the same device, but found at least two devices, cpu and cuda:0! (when checking argument for argument mat1 in method wrapper_addmm)"
     ]
    }
   ],
   "source": [
    "sample_image()"
   ]
  },
  {
   "cell_type": "code",
   "execution_count": null,
   "metadata": {},
   "outputs": [],
   "source": []
  }
 ],
 "metadata": {
  "kernelspec": {
   "display_name": "Python 3.9.13 ('venv': venv)",
   "language": "python",
   "name": "python3"
  },
  "language_info": {
   "codemirror_mode": {
    "name": "ipython",
    "version": 3
   },
   "file_extension": ".py",
   "mimetype": "text/x-python",
   "name": "python",
   "nbconvert_exporter": "python",
   "pygments_lexer": "ipython3",
   "version": "3.9.13"
  },
  "orig_nbformat": 4,
  "vscode": {
   "interpreter": {
    "hash": "78be066a1f7657eab9fff1e9a2518a79cc0c8cd266d05ba9c1ae52726eafd90c"
   }
  }
 },
 "nbformat": 4,
 "nbformat_minor": 2
}
